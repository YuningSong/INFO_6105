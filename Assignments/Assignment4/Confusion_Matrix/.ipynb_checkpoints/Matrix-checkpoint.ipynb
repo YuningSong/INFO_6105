{
 "cells": [
  {
   "cell_type": "code",
   "execution_count": 8,
   "metadata": {},
   "outputs": [],
   "source": [
    "import pandas as pd"
   ]
  },
  {
   "cell_type": "code",
   "execution_count": 9,
   "metadata": {},
   "outputs": [],
   "source": [
    "pd1 = pd.read_csv(\"lyrics.csv\")"
   ]
  },
  {
   "cell_type": "code",
   "execution_count": 10,
   "metadata": {},
   "outputs": [],
   "source": [
    "df1 = pd.DataFrame(pd1)"
   ]
  },
  {
   "cell_type": "code",
   "execution_count": 11,
   "metadata": {},
   "outputs": [
    {
     "data": {
      "text/html": [
       "<div>\n",
       "<style scoped>\n",
       "    .dataframe tbody tr th:only-of-type {\n",
       "        vertical-align: middle;\n",
       "    }\n",
       "\n",
       "    .dataframe tbody tr th {\n",
       "        vertical-align: top;\n",
       "    }\n",
       "\n",
       "    .dataframe thead th {\n",
       "        text-align: right;\n",
       "    }\n",
       "</style>\n",
       "<table border=\"1\" class=\"dataframe\">\n",
       "  <thead>\n",
       "    <tr style=\"text-align: right;\">\n",
       "      <th></th>\n",
       "      <th>Name</th>\n",
       "      <th>Emotion</th>\n",
       "      <th>Lyrics</th>\n",
       "      <th>Prediction</th>\n",
       "    </tr>\n",
       "  </thead>\n",
       "  <tbody>\n",
       "    <tr>\n",
       "      <th>0</th>\n",
       "      <td>稻香</td>\n",
       "      <td>happy</td>\n",
       "      <td>对这个世界如果你有太多的抱怨\\n跌倒了就不敢继续往前走\\n为什么人要这么的脆弱 堕落\\n请你...</td>\n",
       "      <td>happy</td>\n",
       "    </tr>\n",
       "    <tr>\n",
       "      <th>1</th>\n",
       "      <td>喜欢你</td>\n",
       "      <td>happy</td>\n",
       "      <td>细雨带风湿透黄昏的街道 抹去雨水双眼无故地仰望 望向孤单的晚灯 是那伤感的记忆再次泛起心里无...</td>\n",
       "      <td>sad</td>\n",
       "    </tr>\n",
       "    <tr>\n",
       "      <th>2</th>\n",
       "      <td>红日</td>\n",
       "      <td>happy</td>\n",
       "      <td>命运就算颠沛流离\\n命运就算曲折离奇\\n命运就算恐吓着你做人没趣味\\n别流泪 心酸 更不应舍...</td>\n",
       "      <td>sad</td>\n",
       "    </tr>\n",
       "    <tr>\n",
       "      <th>3</th>\n",
       "      <td>光辉岁月</td>\n",
       "      <td>happy</td>\n",
       "      <td>钟声响起归家的讯号\\n在他生命里 彷佛带点唏嘘\\n黑色肌肤给他的意义\\n是一生奉献 肤色斗争...</td>\n",
       "      <td>happy</td>\n",
       "    </tr>\n",
       "    <tr>\n",
       "      <th>4</th>\n",
       "      <td>今天你要嫁给我</td>\n",
       "      <td>happy</td>\n",
       "      <td>春暖的花开带走冬天的感伤 ",
       "微风吹来浪漫的气息 ",
       "每一首情歌忽然充满意义 ",
       "我就在此刻突然见到你\\...</td>\n",
       "      <td>happy</td>\n",
       "    </tr>\n",
       "    <tr>\n",
       "      <th>5</th>\n",
       "      <td>海芋恋</td>\n",
       "      <td>happy</td>\n",
       "      <td>春天的来临\\n悄悄地释出暧昧的气息\\n在百花齐放的季节里\\n你清新脱俗的有股诗意\\n你在天南...</td>\n",
       "      <td>happy</td>\n",
       "    </tr>\n",
       "    <tr>\n",
       "      <th>6</th>\n",
       "      <td>甜甜的</td>\n",
       "      <td>happy</td>\n",
       "      <td>我轻轻地尝一口 你说的爱我\\n还在回味你给过的温柔\\n我轻轻地尝一口 这香浓的诱惑\\n我喜欢...</td>\n",
       "      <td>happy</td>\n",
       "    </tr>\n",
       "    <tr>\n",
       "      <th>7</th>\n",
       "      <td>青春纪念册</td>\n",
       "      <td>happy</td>\n",
       "      <td>合：给你我的心作纪念\\n这份爱 任何时刻你打开都新鲜\\n有我陪伴 多苦都变成甜\\n睁开眼就看...</td>\n",
       "      <td>happy</td>\n",
       "    </tr>\n",
       "    <tr>\n",
       "      <th>8</th>\n",
       "      <td>一个像夏天 一个像秋天</td>\n",
       "      <td>happy</td>\n",
       "      <td>第一次见面看你不太顺眼\\n谁知道后来关系那么密切\\n我们一个像夏天一个像秋天\\n却总能把冬天...</td>\n",
       "      <td>sad</td>\n",
       "    </tr>\n",
       "    <tr>\n",
       "      <th>9</th>\n",
       "      <td>奔跑</td>\n",
       "      <td>happy</td>\n",
       "      <td>速度七十迈\\n心情是自由自在\\n希望终点是爱琴海\\n全力奔跑 梦在彼岸\\n\\n我们想漫游世界...</td>\n",
       "      <td>happy</td>\n",
       "    </tr>\n",
       "    <tr>\n",
       "      <th>10</th>\n",
       "      <td>心如刀割</td>\n",
       "      <td>sad</td>\n",
       "      <td>我的天是灰色 我的心是蓝色 触摸著你的心 竟是透明的\\n你的悠然自得 我却束手无策 我的心痛...</td>\n",
       "      <td>sad</td>\n",
       "    </tr>\n",
       "    <tr>\n",
       "      <th>11</th>\n",
       "      <td>过火</td>\n",
       "      <td>sad</td>\n",
       "      <td>是否对妳承诺了太多 还是我原本给的就不够\\n妳始终有千万种理由 我一直都跟随妳的感受\\n让你...</td>\n",
       "      <td>sad</td>\n",
       "    </tr>\n",
       "    <tr>\n",
       "      <th>12</th>\n",
       "      <td>你不知道的事</td>\n",
       "      <td>sad</td>\n",
       "      <td>蝴蝶眨几次眼睛 才学会飞行\\n夜空灑满了星星 但几颗会落地\\n我飞行 但你坠落之际\\n很靠近...</td>\n",
       "      <td>sad</td>\n",
       "    </tr>\n",
       "    <tr>\n",
       "      <th>13</th>\n",
       "      <td>明明就</td>\n",
       "      <td>sad</td>\n",
       "      <td>糖果罐里好多颜色 微笑却不甜了\\n你的某些快乐 在没有我的时刻\\n中古世纪的城市里 我想就走...</td>\n",
       "      <td>happy</td>\n",
       "    </tr>\n",
       "    <tr>\n",
       "      <th>14</th>\n",
       "      <td>倾城</td>\n",
       "      <td>sad</td>\n",
       "      <td>热情就算 熄灭了 分手这一晚 也重要\\n甜言蜜语 谎话嬉笑 多给我一点 切勿缺少\\n话题尽了...</td>\n",
       "      <td>happy</td>\n",
       "    </tr>\n",
       "    <tr>\n",
       "      <th>15</th>\n",
       "      <td>最冷一天</td>\n",
       "      <td>sad</td>\n",
       "      <td>如果伤感 比快乐更深 但愿我一样伴你行\\n当抬头迎 面总有密云 只要认得你再没有遗憾\\n如果...</td>\n",
       "      <td>sad</td>\n",
       "    </tr>\n",
       "    <tr>\n",
       "      <th>16</th>\n",
       "      <td>我怀念的你</td>\n",
       "      <td>sad</td>\n",
       "      <td>曾经 因一点小意思 将争吵当玩意\\n你拥抱过之後又没有事\\n然後 竟勾痛著尾指 保證并无下次...</td>\n",
       "      <td>sad</td>\n",
       "    </tr>\n",
       "    <tr>\n",
       "      <th>17</th>\n",
       "      <td>孤独患者</td>\n",
       "      <td>sad</td>\n",
       "      <td>欢笑声 欢呼声 炒热气氛 心却很冷\\n聚光灯 是种蒙恩 我却不能 喊等一等\\n我真佩服我 还...</td>\n",
       "      <td>sad</td>\n",
       "    </tr>\n",
       "    <tr>\n",
       "      <th>18</th>\n",
       "      <td>给我一个理由忘记</td>\n",
       "      <td>sad</td>\n",
       "      <td>雨都停了 这片天 灰什麽呢\\n我还记得 你说我们要快乐\\n深夜里的 脚步声 总是刺耳\\n害怕...</td>\n",
       "      <td>happy</td>\n",
       "    </tr>\n",
       "    <tr>\n",
       "      <th>19</th>\n",
       "      <td>消愁</td>\n",
       "      <td>sad</td>\n",
       "      <td>当你走进这欢乐场\\n背上所有的梦与想\\n各色的脸上各色的妆\\n没人记得你的模样\\n三巡酒过你...</td>\n",
       "      <td>sad</td>\n",
       "    </tr>\n",
       "  </tbody>\n",
       "</table>\n",
       "</div>"
      ],
      "text/plain": [
       "           Name Emotion                                             Lyrics  \\\n",
       "0            稻香   happy  对这个世界如果你有太多的抱怨\\n跌倒了就不敢继续往前走\\n为什么人要这么的脆弱 堕落\\n请你...   \n",
       "1           喜欢你   happy  细雨带风湿透黄昏的街道 抹去雨水双眼无故地仰望 望向孤单的晚灯 是那伤感的记忆再次泛起心里无...   \n",
       "2            红日   happy  命运就算颠沛流离\\n命运就算曲折离奇\\n命运就算恐吓着你做人没趣味\\n别流泪 心酸 更不应舍...   \n",
       "3          光辉岁月   happy  钟声响起归家的讯号\\n在他生命里 彷佛带点唏嘘\\n黑色肌肤给他的意义\\n是一生奉献 肤色斗争...   \n",
       "4       今天你要嫁给我   happy  春暖的花开带走冬天的感伤\n",
       "微风吹来浪漫的气息\n",
       "每一首情歌忽然充满意义\n",
       "我就在此刻突然见到你\\...   \n",
       "5           海芋恋   happy  春天的来临\\n悄悄地释出暧昧的气息\\n在百花齐放的季节里\\n你清新脱俗的有股诗意\\n你在天南...   \n",
       "6           甜甜的   happy  我轻轻地尝一口 你说的爱我\\n还在回味你给过的温柔\\n我轻轻地尝一口 这香浓的诱惑\\n我喜欢...   \n",
       "7         青春纪念册   happy  合：给你我的心作纪念\\n这份爱 任何时刻你打开都新鲜\\n有我陪伴 多苦都变成甜\\n睁开眼就看...   \n",
       "8   一个像夏天 一个像秋天   happy  第一次见面看你不太顺眼\\n谁知道后来关系那么密切\\n我们一个像夏天一个像秋天\\n却总能把冬天...   \n",
       "9            奔跑   happy  速度七十迈\\n心情是自由自在\\n希望终点是爱琴海\\n全力奔跑 梦在彼岸\\n\\n我们想漫游世界...   \n",
       "10         心如刀割     sad  我的天是灰色 我的心是蓝色 触摸著你的心 竟是透明的\\n你的悠然自得 我却束手无策 我的心痛...   \n",
       "11           过火     sad  是否对妳承诺了太多 还是我原本给的就不够\\n妳始终有千万种理由 我一直都跟随妳的感受\\n让你...   \n",
       "12       你不知道的事     sad  蝴蝶眨几次眼睛 才学会飞行\\n夜空灑满了星星 但几颗会落地\\n我飞行 但你坠落之际\\n很靠近...   \n",
       "13          明明就     sad  糖果罐里好多颜色 微笑却不甜了\\n你的某些快乐 在没有我的时刻\\n中古世纪的城市里 我想就走...   \n",
       "14           倾城     sad  热情就算 熄灭了 分手这一晚 也重要\\n甜言蜜语 谎话嬉笑 多给我一点 切勿缺少\\n话题尽了...   \n",
       "15         最冷一天     sad  如果伤感 比快乐更深 但愿我一样伴你行\\n当抬头迎 面总有密云 只要认得你再没有遗憾\\n如果...   \n",
       "16        我怀念的你     sad  曾经 因一点小意思 将争吵当玩意\\n你拥抱过之後又没有事\\n然後 竟勾痛著尾指 保證并无下次...   \n",
       "17         孤独患者     sad  欢笑声 欢呼声 炒热气氛 心却很冷\\n聚光灯 是种蒙恩 我却不能 喊等一等\\n我真佩服我 还...   \n",
       "18     给我一个理由忘记     sad  雨都停了 这片天 灰什麽呢\\n我还记得 你说我们要快乐\\n深夜里的 脚步声 总是刺耳\\n害怕...   \n",
       "19           消愁     sad  当你走进这欢乐场\\n背上所有的梦与想\\n各色的脸上各色的妆\\n没人记得你的模样\\n三巡酒过你...   \n",
       "\n",
       "   Prediction  \n",
       "0       happy  \n",
       "1         sad  \n",
       "2         sad  \n",
       "3       happy  \n",
       "4       happy  \n",
       "5       happy  \n",
       "6       happy  \n",
       "7       happy  \n",
       "8         sad  \n",
       "9       happy  \n",
       "10        sad  \n",
       "11        sad  \n",
       "12        sad  \n",
       "13      happy  \n",
       "14      happy  \n",
       "15        sad  \n",
       "16        sad  \n",
       "17        sad  \n",
       "18      happy  \n",
       "19        sad  "
      ]
     },
     "execution_count": 11,
     "metadata": {},
     "output_type": "execute_result"
    }
   ],
   "source": [
    "df1"
   ]
  },
  {
   "cell_type": "code",
   "execution_count": 12,
   "metadata": {},
   "outputs": [],
   "source": [
    "import seaborn as sn"
   ]
  },
  {
   "cell_type": "code",
   "execution_count": 13,
   "metadata": {},
   "outputs": [],
   "source": [
    "import matplotlib.pyplot as plt"
   ]
  },
  {
   "cell_type": "code",
   "execution_count": 15,
   "metadata": {},
   "outputs": [],
   "source": [
    "df2 = df1[['Emotion','Prediction']]"
   ]
  },
  {
   "cell_type": "code",
   "execution_count": 16,
   "metadata": {},
   "outputs": [
    {
     "data": {
      "text/html": [
       "<div>\n",
       "<style scoped>\n",
       "    .dataframe tbody tr th:only-of-type {\n",
       "        vertical-align: middle;\n",
       "    }\n",
       "\n",
       "    .dataframe tbody tr th {\n",
       "        vertical-align: top;\n",
       "    }\n",
       "\n",
       "    .dataframe thead th {\n",
       "        text-align: right;\n",
       "    }\n",
       "</style>\n",
       "<table border=\"1\" class=\"dataframe\">\n",
       "  <thead>\n",
       "    <tr style=\"text-align: right;\">\n",
       "      <th></th>\n",
       "      <th>Emotion</th>\n",
       "      <th>Prediction</th>\n",
       "    </tr>\n",
       "  </thead>\n",
       "  <tbody>\n",
       "    <tr>\n",
       "      <th>0</th>\n",
       "      <td>happy</td>\n",
       "      <td>happy</td>\n",
       "    </tr>\n",
       "    <tr>\n",
       "      <th>1</th>\n",
       "      <td>happy</td>\n",
       "      <td>sad</td>\n",
       "    </tr>\n",
       "    <tr>\n",
       "      <th>2</th>\n",
       "      <td>happy</td>\n",
       "      <td>sad</td>\n",
       "    </tr>\n",
       "    <tr>\n",
       "      <th>3</th>\n",
       "      <td>happy</td>\n",
       "      <td>happy</td>\n",
       "    </tr>\n",
       "    <tr>\n",
       "      <th>4</th>\n",
       "      <td>happy</td>\n",
       "      <td>happy</td>\n",
       "    </tr>\n",
       "    <tr>\n",
       "      <th>5</th>\n",
       "      <td>happy</td>\n",
       "      <td>happy</td>\n",
       "    </tr>\n",
       "    <tr>\n",
       "      <th>6</th>\n",
       "      <td>happy</td>\n",
       "      <td>happy</td>\n",
       "    </tr>\n",
       "    <tr>\n",
       "      <th>7</th>\n",
       "      <td>happy</td>\n",
       "      <td>happy</td>\n",
       "    </tr>\n",
       "    <tr>\n",
       "      <th>8</th>\n",
       "      <td>happy</td>\n",
       "      <td>sad</td>\n",
       "    </tr>\n",
       "    <tr>\n",
       "      <th>9</th>\n",
       "      <td>happy</td>\n",
       "      <td>happy</td>\n",
       "    </tr>\n",
       "    <tr>\n",
       "      <th>10</th>\n",
       "      <td>sad</td>\n",
       "      <td>sad</td>\n",
       "    </tr>\n",
       "    <tr>\n",
       "      <th>11</th>\n",
       "      <td>sad</td>\n",
       "      <td>sad</td>\n",
       "    </tr>\n",
       "    <tr>\n",
       "      <th>12</th>\n",
       "      <td>sad</td>\n",
       "      <td>sad</td>\n",
       "    </tr>\n",
       "    <tr>\n",
       "      <th>13</th>\n",
       "      <td>sad</td>\n",
       "      <td>happy</td>\n",
       "    </tr>\n",
       "    <tr>\n",
       "      <th>14</th>\n",
       "      <td>sad</td>\n",
       "      <td>happy</td>\n",
       "    </tr>\n",
       "    <tr>\n",
       "      <th>15</th>\n",
       "      <td>sad</td>\n",
       "      <td>sad</td>\n",
       "    </tr>\n",
       "    <tr>\n",
       "      <th>16</th>\n",
       "      <td>sad</td>\n",
       "      <td>sad</td>\n",
       "    </tr>\n",
       "    <tr>\n",
       "      <th>17</th>\n",
       "      <td>sad</td>\n",
       "      <td>sad</td>\n",
       "    </tr>\n",
       "    <tr>\n",
       "      <th>18</th>\n",
       "      <td>sad</td>\n",
       "      <td>happy</td>\n",
       "    </tr>\n",
       "    <tr>\n",
       "      <th>19</th>\n",
       "      <td>sad</td>\n",
       "      <td>sad</td>\n",
       "    </tr>\n",
       "  </tbody>\n",
       "</table>\n",
       "</div>"
      ],
      "text/plain": [
       "   Emotion Prediction\n",
       "0    happy      happy\n",
       "1    happy        sad\n",
       "2    happy        sad\n",
       "3    happy      happy\n",
       "4    happy      happy\n",
       "5    happy      happy\n",
       "6    happy      happy\n",
       "7    happy      happy\n",
       "8    happy        sad\n",
       "9    happy      happy\n",
       "10     sad        sad\n",
       "11     sad        sad\n",
       "12     sad        sad\n",
       "13     sad      happy\n",
       "14     sad      happy\n",
       "15     sad        sad\n",
       "16     sad        sad\n",
       "17     sad        sad\n",
       "18     sad      happy\n",
       "19     sad        sad"
      ]
     },
     "execution_count": 16,
     "metadata": {},
     "output_type": "execute_result"
    }
   ],
   "source": [
    "df2"
   ]
  },
  {
   "cell_type": "code",
   "execution_count": 20,
   "metadata": {},
   "outputs": [],
   "source": [
    "from pandas_ml import ConfusionMatrix"
   ]
  },
  {
   "cell_type": "code",
   "execution_count": 81,
   "metadata": {},
   "outputs": [],
   "source": [
    "Emotion = [True,True,True, True, True, True, True,True, True, True, False, False, False, False, False, False, False,False, False, False]"
   ]
  },
  {
   "cell_type": "code",
   "execution_count": 82,
   "metadata": {},
   "outputs": [
    {
     "data": {
      "text/plain": [
       "[True,\n",
       " True,\n",
       " True,\n",
       " True,\n",
       " True,\n",
       " True,\n",
       " True,\n",
       " True,\n",
       " True,\n",
       " True,\n",
       " False,\n",
       " False,\n",
       " False,\n",
       " False,\n",
       " False,\n",
       " False,\n",
       " False,\n",
       " False,\n",
       " False,\n",
       " False]"
      ]
     },
     "execution_count": 82,
     "metadata": {},
     "output_type": "execute_result"
    }
   ],
   "source": [
    "Emotion"
   ]
  },
  {
   "cell_type": "code",
   "execution_count": 83,
   "metadata": {},
   "outputs": [
    {
     "data": {
      "text/plain": [
       "bool"
      ]
     },
     "execution_count": 83,
     "metadata": {},
     "output_type": "execute_result"
    }
   ],
   "source": [
    "Predict = [True, False, False, True, True, True, True, True,False, True, False, False, False, True, True, False,False, False, True, False]\n",
    "type(Predict[0])"
   ]
  },
  {
   "cell_type": "code",
   "execution_count": 84,
   "metadata": {},
   "outputs": [
    {
     "name": "stdout",
     "output_type": "stream",
     "text": [
      "Confusion matrix:\n",
      "Predicted  False  True  __all__\n",
      "Actual                         \n",
      "False          7     3       10\n",
      "True           3     7       10\n",
      "__all__       10    10       20\n"
     ]
    }
   ],
   "source": [
    "confusion_matrix = ConfusionMatrix(Emotion,Predict)\n",
    "print(\"Confusion matrix:\\n%s\" % confusion_matrix)"
   ]
  },
  {
   "cell_type": "code",
   "execution_count": 85,
   "metadata": {},
   "outputs": [
    {
     "name": "stdout",
     "output_type": "stream",
     "text": [
      "7\n"
     ]
    }
   ],
   "source": [
    "print(confusion_matrix.TP)"
   ]
  },
  {
   "cell_type": "code",
   "execution_count": 88,
   "metadata": {},
   "outputs": [
    {
     "data": {
      "image/png": "[encoded data removed]",
      "text/plain": [
       "<Figure size 648x576 with 1 Axes>"
      ]
     },
     "metadata": {
      "needs_background": "light"
     },
     "output_type": "display_data"
    }
   ],
   "source": [
    "confusion_matrix.plot(normalized=True)\n",
    "plt.show()"
   ]
  },
  {
   "cell_type": "code",
   "execution_count": 90,
   "metadata": {},
   "outputs": [
    {
     "name": "stdout",
     "output_type": "stream",
     "text": [
      "population: 20\n",
      "P: 10\n",
      "N: 10\n",
      "PositiveTest: 10\n",
      "NegativeTest: 10\n",
      "TP: 7\n",
      "TN: 7\n",
      "FP: 3\n",
      "FN: 3\n",
      "TPR: 0.7\n",
      "TNR: 0.7\n",
      "PPV: 0.7\n",
      "NPV: 0.7\n",
      "FPR: 0.3\n",
      "FDR: 0.3\n",
      "FNR: 0.3\n",
      "ACC: 0.7\n",
      "F1_score: 0.7\n",
      "MCC: 0.4\n",
      "informedness: 0.3999999999999999\n",
      "markedness: 0.3999999999999999\n",
      "prevalence: 0.5\n",
      "LRP: 2.3333333333333335\n",
      "LRN: 0.4285714285714286\n",
      "DOR: 5.444444444444445\n",
      "FOR: 0.3\n"
     ]
    }
   ],
   "source": [
    "confusion_matrix.print_stats()"
   ]
  },
  {
   "cell_type": "code",
   "execution_count": null,
   "metadata": {},
   "outputs": [],
   "source": []
  }
 ],
 "metadata": {
  "kernelspec": {
   "display_name": "Python 3",
   "language": "python",
   "name": "python3"
  },
  "language_info": {
   "codemirror_mode": {
    "name": "ipython",
    "version": 3
   },
   "file_extension": ".py",
   "mimetype": "text/x-python",
   "name": "python",
   "nbconvert_exporter": "python",
   "pygments_lexer": "ipython3",
   "version": "3.7.1"
  }
 },
 "nbformat": 4,
 "nbformat_minor": 2
}
