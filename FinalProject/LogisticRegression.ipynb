{
 "cells": [
  {
   "cell_type": "code",
   "execution_count": 1,
   "metadata": {},
   "outputs": [],
   "source": [
    "from __future__ import division\n",
    "import numpy\n",
    "import pandas"
   ]
  },
  {
   "cell_type": "code",
   "execution_count": 2,
   "metadata": {},
   "outputs": [
    {
     "data": {
      "text/html": [
       "<div>\n",
       "<style scoped>\n",
       "    .dataframe tbody tr th:only-of-type {\n",
       "        vertical-align: middle;\n",
       "    }\n",
       "\n",
       "    .dataframe tbody tr th {\n",
       "        vertical-align: top;\n",
       "    }\n",
       "\n",
       "    .dataframe thead th {\n",
       "        text-align: right;\n",
       "    }\n",
       "</style>\n",
       "<table border=\"1\" class=\"dataframe\">\n",
       "  <thead>\n",
       "    <tr style=\"text-align: right;\">\n",
       "      <th></th>\n",
       "      <th>average_stars</th>\n",
       "      <th>elite_count</th>\n",
       "      <th>review_count</th>\n",
       "      <th>business_average_stars</th>\n",
       "      <th>stars</th>\n",
       "    </tr>\n",
       "  </thead>\n",
       "  <tbody>\n",
       "    <tr>\n",
       "      <th>0</th>\n",
       "      <td>4.03</td>\n",
       "      <td>3</td>\n",
       "      <td>95</td>\n",
       "      <td>3.857143</td>\n",
       "      <td>4.000000</td>\n",
       "    </tr>\n",
       "    <tr>\n",
       "      <th>1</th>\n",
       "      <td>3.63</td>\n",
       "      <td>0</td>\n",
       "      <td>33</td>\n",
       "      <td>3.976190</td>\n",
       "      <td>3.666667</td>\n",
       "    </tr>\n",
       "    <tr>\n",
       "      <th>2</th>\n",
       "      <td>3.71</td>\n",
       "      <td>0</td>\n",
       "      <td>16</td>\n",
       "      <td>3.794118</td>\n",
       "      <td>3.705882</td>\n",
       "    </tr>\n",
       "    <tr>\n",
       "      <th>3</th>\n",
       "      <td>4.85</td>\n",
       "      <td>0</td>\n",
       "      <td>17</td>\n",
       "      <td>4.000000</td>\n",
       "      <td>5.000000</td>\n",
       "    </tr>\n",
       "    <tr>\n",
       "      <th>4</th>\n",
       "      <td>4.08</td>\n",
       "      <td>4</td>\n",
       "      <td>361</td>\n",
       "      <td>4.076923</td>\n",
       "      <td>4.692308</td>\n",
       "    </tr>\n",
       "  </tbody>\n",
       "</table>\n",
       "</div>"
      ],
      "text/plain": [
       "   average_stars  elite_count  review_count  business_average_stars     stars\n",
       "0           4.03            3            95                3.857143  4.000000\n",
       "1           3.63            0            33                3.976190  3.666667\n",
       "2           3.71            0            16                3.794118  3.705882\n",
       "3           4.85            0            17                4.000000  5.000000\n",
       "4           4.08            4           361                4.076923  4.692308"
      ]
     },
     "execution_count": 2,
     "metadata": {},
     "output_type": "execute_result"
    }
   ],
   "source": [
    "data = pandas.read_csv('yelp_feature.csv')\n",
    "data.head()"
   ]
  },
  {
   "cell_type": "code",
   "execution_count": 3,
   "metadata": {},
   "outputs": [
    {
     "name": "stdout",
     "output_type": "stream",
     "text": [
      "shape of X (1048575, 4); shape of Y (1048575,)\n"
     ]
    }
   ],
   "source": [
    "x = data.drop(['stars'], axis=1)\n",
    "y = data['stars']\n",
    "x = numpy.array(x)\n",
    "y = numpy.rint(numpy.array(y))\n",
    "print('shape of X {}; shape of Y {}'.format(x.shape, y.shape))"
   ]
  },
  {
   "cell_type": "code",
   "execution_count": 4,
   "metadata": {},
   "outputs": [],
   "source": [
    "from sklearn.model_selection import train_test_split\n",
    "x_train, x_test, y_train, y_test = train_test_split(x, y, test_size=0.2);"
   ]
  },
  {
   "cell_type": "code",
   "execution_count": 5,
   "metadata": {},
   "outputs": [],
   "source": [
    "from sklearn.preprocessing import StandardScaler\n",
    "sc = StandardScaler()\n",
    "sc.fit(x_train)\n",
    "x_train_std = sc.transform(x_train)\n",
    "x_test_std = sc.transform(x_test)"
   ]
  },
  {
   "cell_type": "code",
   "execution_count": 9,
   "metadata": {},
   "outputs": [
    {
     "name": "stdout",
     "output_type": "stream",
     "text": [
      "The average accuracy of training set is：0.620898600481606\n",
      "The average accuracy of testing set is：0.6205421643659251\n",
      "Coefficients:\n",
      "  [[-2.42418498e+00  6.87681188e-02 -4.36206834e-03 -1.70494459e+00]\n",
      " [-1.68748898e+00 -3.50089297e-02  7.14509871e-04 -9.46585119e-01]\n",
      " [-5.66078930e-01 -2.32293798e-02  2.88892089e-03 -2.04118024e-01]\n",
      " [ 1.40902752e+00  2.06497315e-02  3.11115601e-03  8.76776193e-01]\n",
      " [ 3.26872538e+00 -3.11795409e-02 -2.35251843e-03  1.97887154e+00]]\n",
      "Constant value:\n",
      "  [ 13.01429863   8.46031829   3.76880838  -6.65568108 -18.58774423]\n"
     ]
    }
   ],
   "source": [
    "from sklearn.linear_model import LogisticRegression\n",
    "lr = LogisticRegression(\n",
    "    multi_class='multinomial', \n",
    "    class_weight={1:0.125, 2:0.125, 3:0.25, 4:0.25, 5:0.25},\n",
    "    C=1e5, \n",
    "    solver='newton-cg'\n",
    ")\n",
    "lr.fit(x_train, y_train)\n",
    "\n",
    "print('The average accuracy of training set is：%s' % lr.score(x_train, y_train))\n",
    "print('The average accuracy of testing set is：%s' % lr.score(x_test, y_test))\n",
    "print('Coefficients:\\n ', lr.coef_)         # coefficient\n",
    "print('Constant value:\\n ', lr.intercept_)  # constant"
   ]
  },
  {
   "cell_type": "code",
   "execution_count": 14,
   "metadata": {},
   "outputs": [
    {
     "name": "stdout",
     "output_type": "stream",
     "text": [
      "209715\n",
      "79578\n"
     ]
    }
   ],
   "source": [
    "result=lr.predict(x_test)\n",
    "cnt = 0\n",
    "for i in range(len(result)):\n",
    "    if result[i] != y_test[i]:\n",
    "        cnt += 1\n",
    "print(len(result))\n",
    "print(cnt)"
   ]
  },
  {
   "cell_type": "code",
   "execution_count": null,
   "metadata": {},
   "outputs": [],
   "source": []
  }
 ],
 "metadata": {
  "kernelspec": {
   "display_name": "Python 3",
   "language": "python",
   "name": "python3"
  },
  "language_info": {
   "codemirror_mode": {
    "name": "ipython",
    "version": 3
   },
   "file_extension": ".py",
   "mimetype": "text/x-python",
   "name": "python",
   "nbconvert_exporter": "python",
   "pygments_lexer": "ipython3",
   "version": "3.7.1"
  }
 },
 "nbformat": 4,
 "nbformat_minor": 2
}
