{
 "cells": [
  {
   "cell_type": "code",
   "execution_count": 1,
   "metadata": {},
   "outputs": [],
   "source": [
    "import pandas as pd\n",
    "import numpy as np\n",
    "import pickle\n",
    "import matplotlib\n",
    "import matplotlib.pyplot as plt\n",
    "from scipy import stats\n",
    "import seaborn as sns\n",
    "from pylab import rcParams\n",
    "from sklearn.model_selection import train_test_split\n",
    "from sklearn.preprocessing import StandardScaler"
   ]
  },
  {
   "cell_type": "code",
   "execution_count": 2,
   "metadata": {},
   "outputs": [
    {
     "data": {
      "text/plain": [
       "(1048575, 6)"
      ]
     },
     "execution_count": 2,
     "metadata": {},
     "output_type": "execute_result"
    }
   ],
   "source": [
    "X = pd.read_csv(\"yelp_feature.csv\")\n",
    "X = pd.DataFrame(X)\n",
    "#X = X[0:20000]\n",
    "y=X['stars']\n",
    "X.shape"
   ]
  },
  {
   "cell_type": "code",
   "execution_count": 3,
   "metadata": {},
   "outputs": [
    {
     "data": {
      "text/html": [
       "<div>\n",
       "<style scoped>\n",
       "    .dataframe tbody tr th:only-of-type {\n",
       "        vertical-align: middle;\n",
       "    }\n",
       "\n",
       "    .dataframe tbody tr th {\n",
       "        vertical-align: top;\n",
       "    }\n",
       "\n",
       "    .dataframe thead th {\n",
       "        text-align: right;\n",
       "    }\n",
       "</style>\n",
       "<table border=\"1\" class=\"dataframe\">\n",
       "  <thead>\n",
       "    <tr style=\"text-align: right;\">\n",
       "      <th></th>\n",
       "      <th>average_stars</th>\n",
       "      <th>elite_count</th>\n",
       "      <th>fans</th>\n",
       "      <th>friends_count</th>\n",
       "      <th>business_average_stars</th>\n",
       "      <th>stars</th>\n",
       "    </tr>\n",
       "  </thead>\n",
       "  <tbody>\n",
       "    <tr>\n",
       "      <th>0</th>\n",
       "      <td>4.03</td>\n",
       "      <td>3</td>\n",
       "      <td>5</td>\n",
       "      <td>99</td>\n",
       "      <td>3.857143</td>\n",
       "      <td>4.000000</td>\n",
       "    </tr>\n",
       "    <tr>\n",
       "      <th>1</th>\n",
       "      <td>3.63</td>\n",
       "      <td>0</td>\n",
       "      <td>4</td>\n",
       "      <td>1152</td>\n",
       "      <td>3.976190</td>\n",
       "      <td>3.666667</td>\n",
       "    </tr>\n",
       "    <tr>\n",
       "      <th>2</th>\n",
       "      <td>3.71</td>\n",
       "      <td>0</td>\n",
       "      <td>0</td>\n",
       "      <td>15</td>\n",
       "      <td>3.794118</td>\n",
       "      <td>3.705882</td>\n",
       "    </tr>\n",
       "    <tr>\n",
       "      <th>3</th>\n",
       "      <td>4.85</td>\n",
       "      <td>0</td>\n",
       "      <td>5</td>\n",
       "      <td>525</td>\n",
       "      <td>4.000000</td>\n",
       "      <td>5.000000</td>\n",
       "    </tr>\n",
       "    <tr>\n",
       "      <th>4</th>\n",
       "      <td>4.08</td>\n",
       "      <td>4</td>\n",
       "      <td>39</td>\n",
       "      <td>231</td>\n",
       "      <td>4.076923</td>\n",
       "      <td>4.692308</td>\n",
       "    </tr>\n",
       "  </tbody>\n",
       "</table>\n",
       "</div>"
      ],
      "text/plain": [
       "   average_stars  elite_count  fans  friends_count  business_average_stars  \\\n",
       "0           4.03            3     5             99                3.857143   \n",
       "1           3.63            0     4           1152                3.976190   \n",
       "2           3.71            0     0             15                3.794118   \n",
       "3           4.85            0     5            525                4.000000   \n",
       "4           4.08            4    39            231                4.076923   \n",
       "\n",
       "      stars  \n",
       "0  4.000000  \n",
       "1  3.666667  \n",
       "2  3.705882  \n",
       "3  5.000000  \n",
       "4  4.692308  "
      ]
     },
     "execution_count": 3,
     "metadata": {},
     "output_type": "execute_result"
    }
   ],
   "source": [
    "X.head()"
   ]
  },
  {
   "cell_type": "code",
   "execution_count": 4,
   "metadata": {},
   "outputs": [],
   "source": [
    "X = X.drop(['stars'], axis=1)\n",
    "\n",
    "scaler=StandardScaler()\n",
    "X = scaler.fit_transform(X)\n",
    "y = np.array(y).astype(int)\n",
    "\n",
    "X_train, X_test, y_train, y_test = train_test_split(X, y, test_size=0.25, random_state=33)\n"
   ]
  },
  {
   "cell_type": "code",
   "execution_count": 14,
   "metadata": {},
   "outputs": [],
   "source": [
    "# Use Random Forest \n",
    "from sklearn.ensemble import RandomForestClassifier\n",
    "from sklearn.metrics import accuracy_score\n",
    "\n",
    "ranmodel = RandomForestClassifier(n_estimators=100）\n",
    "ranmodel = ranmodel.fit(X_train, y_train)"
   ]
  },
  {
   "cell_type": "code",
   "execution_count": 15,
   "metadata": {},
   "outputs": [],
   "source": [
    "# use model to predict\n",
    "resultpro=ranmodel.predict_proba(X_test)\n",
    "result=ranmodel.predict(X_test)"
   ]
  },
  {
   "cell_type": "code",
   "execution_count": 16,
   "metadata": {},
   "outputs": [
    {
     "name": "stdout",
     "output_type": "stream",
     "text": [
      "0.6910896301269531\n"
     ]
    }
   ],
   "source": [
    "from sklearn.metrics import accuracy_score\n",
    "from sklearn.metrics import average_precision_score\n",
    "\n",
    "print(accuracy_score(y_test, result))\n",
    "# print(y_test)\n",
    "# print(clf_y_predict)\n",
    "\n",
    "\n",
    "# #logloss\n",
    "# one_hot = OneHotEncoder(n_values=6, sparse=False)\n",
    "# y_true = one_hot.fit_transform(y_test)\n",
    "# y_pred = one_hot.fit_transform(clf_y_predict)\n",
    "# log_loss(y_true, y_pred)\n",
    "\n",
    "# print(X_test[0])"
   ]
  },
  {
   "cell_type": "code",
   "execution_count": 39,
   "metadata": {},
   "outputs": [
    {
     "name": "stdout",
     "output_type": "stream",
     "text": [
      "[0.    0.    0.643 0.357 0.   ]\n",
      "3\n",
      "4\n"
     ]
    }
   ],
   "source": [
    "print(resultpro[0])\n",
    "print(result[0])\n",
    "print(y_test[0])"
   ]
  },
  {
   "cell_type": "code",
   "execution_count": 46,
   "metadata": {},
   "outputs": [
    {
     "name": "stdout",
     "output_type": "stream",
     "text": [
      "[3 3 5 ... 5 3 4]\n"
     ]
    }
   ],
   "source": [
    "# Compute ROC curve and ROC area for each class\n",
    "from sklearn.metrics import roc_curve, auc\n",
    " \n",
    "# 设置种类\n",
    "print(result)\n",
    "n_classes = 4\n"
   ]
  },
  {
   "cell_type": "code",
   "execution_count": 47,
   "metadata": {},
   "outputs": [
    {
     "name": "stdout",
     "output_type": "stream",
     "text": [
      "[[24807  3045  3881   914  1470]\n",
      " [ 3310 12362  6493  1417  1190]\n",
      " [ 2214  4279 40963 10067  3941]\n",
      " [  774  1192 11927 39713  8711]\n",
      " [ 1227   856  5660 10530 61201]]\n",
      "              precision    recall  f1-score   support\n",
      "\n",
      "           1       0.77      0.73      0.75     34117\n",
      "           2       0.57      0.50      0.53     24772\n",
      "           3       0.59      0.67      0.63     61464\n",
      "           4       0.63      0.64      0.64     62317\n",
      "           5       0.80      0.77      0.78     79474\n",
      "\n",
      "   micro avg       0.68      0.68      0.68    262144\n",
      "   macro avg       0.67      0.66      0.67    262144\n",
      "weighted avg       0.69      0.68      0.68    262144\n",
      "\n"
     ]
    }
   ],
   "source": [
    "from sklearn.metrics import classification_report, confusion_matrix  \n",
    "print(confusion_matrix(y_test,result))  \n",
    "print(classification_report(y_test, result))"
   ]
  },
  {
   "cell_type": "code",
   "execution_count": 48,
   "metadata": {},
   "outputs": [
    {
     "data": {
      "text/plain": [
       "array([3, 3, 5, ..., 5, 3, 4])"
      ]
     },
     "execution_count": 48,
     "metadata": {},
     "output_type": "execute_result"
    }
   ],
   "source": [
    "result"
   ]
  },
  {
   "cell_type": "code",
   "execution_count": 25,
   "metadata": {},
   "outputs": [
    {
     "data": {
      "text/plain": [
       "Text(0, 0.5, 'Mean Error')"
      ]
     },
     "execution_count": 25,
     "metadata": {},
     "output_type": "execute_result"
    },
    {
     "data": {
      "image/png": "[encoded data removed]",
      "text/plain": [
       "<Figure size 864x432 with 1 Axes>"
      ]
     },
     "metadata": {
      "needs_background": "light"
     },
     "output_type": "display_data"
    }
   ],
   "source": [
    "error = []\n",
    "\n",
    "# Calculating error for K values between 1 and 40\n",
    "for i in range(50,150,10):  \n",
    "    RD = RandomForestClassifier(n_estimators=i)\n",
    "    RD.fit(X_train, y_train)\n",
    "    pred_i = RD.predict(X_test)\n",
    "    error.append(np.mean(pred_i != y_test))\n",
    "plt.figure(figsize=(12, 6))  \n",
    "plt.plot(range(50,150,10), error, color='red', linestyle='dashed', marker='o',  \n",
    "         markerfacecolor='blue', markersize=10)\n",
    "plt.title('Error Rate n_estimators Value')  \n",
    "plt.xlabel('n_estimators Value')  \n",
    "plt.ylabel('Mean Error')"
   ]
  },
  {
   "cell_type": "code",
   "execution_count": 29,
   "metadata": {},
   "outputs": [
    {
     "data": {
      "text/plain": [
       "Text(0, 0.5, 'Mean Error')"
      ]
     },
     "execution_count": 29,
     "metadata": {},
     "output_type": "execute_result"
    },
    {
     "data": {
      "image/png": "[encoded data removed]",
      "text/plain": [
       "<Figure size 864x432 with 1 Axes>"
      ]
     },
     "metadata": {
      "needs_background": "light"
     },
     "output_type": "display_data"
    }
   ],
   "source": [
    "error1 = []\n",
    "\n",
    "# Calculating error for K values between 1 and 40\n",
    "for i in range(3,14,2):  \n",
    "    RD = RandomForestClassifier(n_estimators=80,max_depth=i)\n",
    "    RD.fit(X_train, y_train)\n",
    "    pred_i = RD.predict(X_test)\n",
    "    error1.append(np.mean(pred_i != y_test))\n",
    "plt.figure(figsize=(12, 6))  \n",
    "plt.plot(range(3,14,2), error1, color='red', linestyle='dashed', marker='o',  \n",
    "         markerfacecolor='blue', markersize=10)\n",
    "plt.title('Error Rate max_depth Value')  \n",
    "plt.xlabel('max_depth Value')  \n",
    "plt.ylabel('Mean Error')"
   ]
  },
  {
   "cell_type": "code",
   "execution_count": 5,
   "metadata": {},
   "outputs": [
    {
     "name": "stderr",
     "output_type": "stream",
     "text": [
      "/Users/yuningsong/anaconda3/lib/python3.7/site-packages/sklearn/ensemble/weight_boosting.py:29: DeprecationWarning: numpy.core.umath_tests is an internal NumPy module and should not be imported. It will be removed in a future NumPy release.\n",
      "  from numpy.core.umath_tests import inner1d\n"
     ]
    }
   ],
   "source": [
    "# Use Random Forest \n",
    "from sklearn.ensemble import RandomForestClassifier\n",
    "from sklearn.metrics import accuracy_score\n",
    "\n",
    "ranmodel = RandomForestClassifier(n_estimators=100,max_depth=7)\n",
    "ranmodel = ranmodel.fit(X_train, y_train)"
   ]
  },
  {
   "cell_type": "code",
   "execution_count": 6,
   "metadata": {},
   "outputs": [],
   "source": [
    "resultpro=ranmodel.predict_proba(X_test)\n",
    "result=ranmodel.predict(X_test)"
   ]
  },
  {
   "cell_type": "code",
   "execution_count": 7,
   "metadata": {},
   "outputs": [
    {
     "name": "stdout",
     "output_type": "stream",
     "text": [
      "0.6742057800292969\n"
     ]
    }
   ],
   "source": [
    "from sklearn.metrics import accuracy_score\n",
    "from sklearn.metrics import average_precision_score\n",
    "\n",
    "print(accuracy_score(y_test, result))"
   ]
  },
  {
   "cell_type": "code",
   "execution_count": 8,
   "metadata": {},
   "outputs": [
    {
     "name": "stdout",
     "output_type": "stream",
     "text": [
      "[0.04411099 0.10211423 0.56694687 0.22413887 0.06268904]\n",
      "3\n",
      "4\n"
     ]
    }
   ],
   "source": [
    "print(resultpro[0])\n",
    "print(result[0])\n",
    "print(y_test[0])"
   ]
  },
  {
   "cell_type": "code",
   "execution_count": 9,
   "metadata": {},
   "outputs": [
    {
     "name": "stdout",
     "output_type": "stream",
     "text": [
      "[[23412  3042  5683  1374   606]\n",
      " [ 2983  8986 10873  1339   591]\n",
      " [ 1146  2467 45295 10985  1571]\n",
      " [  455   363 13969 43597  3933]\n",
      " [  546   377  7645 15457 55449]]\n",
      "             precision    recall  f1-score   support\n",
      "\n",
      "          1       0.82      0.69      0.75     34117\n",
      "          2       0.59      0.36      0.45     24772\n",
      "          3       0.54      0.74      0.63     61464\n",
      "          4       0.60      0.70      0.65     62317\n",
      "          5       0.89      0.70      0.78     79474\n",
      "\n",
      "avg / total       0.70      0.67      0.68    262144\n",
      "\n"
     ]
    }
   ],
   "source": [
    "from sklearn.metrics import classification_report, confusion_matrix  \n",
    "print(confusion_matrix(y_test,result))  \n",
    "print(classification_report(y_test, result))"
   ]
  },
  {
   "cell_type": "code",
   "execution_count": 10,
   "metadata": {},
   "outputs": [
    {
     "data": {
      "text/plain": [
       "18.391984303792317"
      ]
     },
     "execution_count": 10,
     "metadata": {},
     "output_type": "execute_result"
    }
   ],
   "source": [
    "from sklearn.utils import check_array\n",
    "\n",
    "def mean_absolute_percentage_error(y_test, y_pred): \n",
    " \n",
    "\n",
    "    return np.mean(np.abs((y_test - y_pred) / y_test)) * 100\n",
    "mean_absolute_percentage_error(y_test, result)"
   ]
  },
  {
   "cell_type": "code",
   "execution_count": 13,
   "metadata": {},
   "outputs": [
    {
     "data": {
      "text/plain": [
       "['RD_model.joblib']"
      ]
     },
     "execution_count": 13,
     "metadata": {},
     "output_type": "execute_result"
    }
   ],
   "source": [
    "from sklearn.externals import joblib\n",
    "\n",
    "# 保存模型到 model.joblib 文件\n",
    "joblib.dump(ranmodel, \"RD_model.joblib\" ,compress=1)"
   ]
  },
  {
   "cell_type": "code",
   "execution_count": null,
   "metadata": {},
   "outputs": [],
   "source": []
  }
 ],
 "metadata": {
  "kernelspec": {
   "display_name": "Python 3",
   "language": "python",
   "name": "python3"
  },
  "language_info": {
   "codemirror_mode": {
    "name": "ipython",
    "version": 3
   },
   "file_extension": ".py",
   "mimetype": "text/x-python",
   "name": "python",
   "nbconvert_exporter": "python",
   "pygments_lexer": "ipython3",
   "version": "3.7.1"
  }
 },
 "nbformat": 4,
 "nbformat_minor": 2
}
